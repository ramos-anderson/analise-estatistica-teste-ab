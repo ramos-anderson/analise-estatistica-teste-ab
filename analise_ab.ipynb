{
 "cells": [
  {
   "cell_type": "markdown",
   "id": "458c6f8c",
   "metadata": {},
   "source": [
    "# Análise de Experimento - Teste A/B\n",
    "\n",
    "**Autor:** Anderson Ramos\n",
    "**Data:** 16/10/2025\n",
    "\n",
    "## Objetivo\n",
    "\n",
    "O objetivo desta análise é avaliar os resultados de um teste A/B para determinar se uma nova página de destino (grupo \"treatment\") gera uma taxa de conversão maior do que a página antiga (grupo \"control\"). A análise será conduzida com rigor estatístico para garantir que qualquer decisão de negócio seja baseada em evidências sólidas."
   ]
  },
  {
   "cell_type": "code",
   "execution_count": 19,
   "id": "c37b1169",
   "metadata": {},
   "outputs": [
    {
     "name": "stdout",
     "output_type": "stream",
     "text": [
      "Dataset carregado com sucesso!\n",
      "O dataset contém 294480 linhas e 5 colunas.\n"
     ]
    },
    {
     "data": {
      "text/html": [
       "<div>\n",
       "<style scoped>\n",
       "    .dataframe tbody tr th:only-of-type {\n",
       "        vertical-align: middle;\n",
       "    }\n",
       "\n",
       "    .dataframe tbody tr th {\n",
       "        vertical-align: top;\n",
       "    }\n",
       "\n",
       "    .dataframe thead th {\n",
       "        text-align: right;\n",
       "    }\n",
       "</style>\n",
       "<table border=\"1\" class=\"dataframe\">\n",
       "  <thead>\n",
       "    <tr style=\"text-align: right;\">\n",
       "      <th></th>\n",
       "      <th>user_id</th>\n",
       "      <th>timestamp</th>\n",
       "      <th>group</th>\n",
       "      <th>landing_page</th>\n",
       "      <th>converted</th>\n",
       "    </tr>\n",
       "  </thead>\n",
       "  <tbody>\n",
       "    <tr>\n",
       "      <th>0</th>\n",
       "      <td>851104</td>\n",
       "      <td>11:48.6</td>\n",
       "      <td>control</td>\n",
       "      <td>old_page</td>\n",
       "      <td>0</td>\n",
       "    </tr>\n",
       "    <tr>\n",
       "      <th>1</th>\n",
       "      <td>804228</td>\n",
       "      <td>01:45.2</td>\n",
       "      <td>control</td>\n",
       "      <td>old_page</td>\n",
       "      <td>0</td>\n",
       "    </tr>\n",
       "    <tr>\n",
       "      <th>2</th>\n",
       "      <td>661590</td>\n",
       "      <td>55:06.2</td>\n",
       "      <td>treatment</td>\n",
       "      <td>new_page</td>\n",
       "      <td>0</td>\n",
       "    </tr>\n",
       "    <tr>\n",
       "      <th>3</th>\n",
       "      <td>853541</td>\n",
       "      <td>28:03.1</td>\n",
       "      <td>treatment</td>\n",
       "      <td>new_page</td>\n",
       "      <td>0</td>\n",
       "    </tr>\n",
       "    <tr>\n",
       "      <th>4</th>\n",
       "      <td>864975</td>\n",
       "      <td>52:26.2</td>\n",
       "      <td>control</td>\n",
       "      <td>old_page</td>\n",
       "      <td>1</td>\n",
       "    </tr>\n",
       "  </tbody>\n",
       "</table>\n",
       "</div>"
      ],
      "text/plain": [
       "   user_id timestamp      group landing_page  converted\n",
       "0   851104   11:48.6    control     old_page          0\n",
       "1   804228   01:45.2    control     old_page          0\n",
       "2   661590   55:06.2  treatment     new_page          0\n",
       "3   853541   28:03.1  treatment     new_page          0\n",
       "4   864975   52:26.2    control     old_page          1"
      ]
     },
     "execution_count": 19,
     "metadata": {},
     "output_type": "execute_result"
    }
   ],
   "source": [
    "# 1. Importação das bibliotecas\n",
    "import pandas as pd\n",
    "import numpy as np\n",
    "import matplotlib.pyplot as plt\n",
    "from statsmodels.stats.proportion import proportions_ztest\n",
    "\n",
    "# 2. Carregamento do dataset\n",
    "try:\n",
    "    # Use o nome exato do arquivo que você baixou\n",
    "    df = pd.read_csv('ab_data.csv') \n",
    "    print(\"Dataset carregado com sucesso!\")\n",
    "    print(f\"O dataset contém {df.shape[0]} linhas e {df.shape[1]} colunas.\")\n",
    "except FileNotFoundError:\n",
    "    print(\"ERRO: Arquivo 'ab_data.csv' não encontrado. Verifique se o nome e o caminho estão corretos.\")\n",
    "\n",
    "# 3. Visualização inicial dos dados\n",
    "df.head()"
   ]
  },
  {
   "cell_type": "code",
   "execution_count": 20,
   "id": "3dc1fe93",
   "metadata": {},
   "outputs": [
    {
     "name": "stdout",
     "output_type": "stream",
     "text": [
      "<class 'pandas.core.frame.DataFrame'>\n",
      "RangeIndex: 294480 entries, 0 to 294479\n",
      "Data columns (total 5 columns):\n",
      " #   Column        Non-Null Count   Dtype \n",
      "---  ------        --------------   ----- \n",
      " 0   user_id       294480 non-null  int64 \n",
      " 1   timestamp     294480 non-null  object\n",
      " 2   group         294480 non-null  object\n",
      " 3   landing_page  294480 non-null  object\n",
      " 4   converted     294480 non-null  int64 \n",
      "dtypes: int64(2), object(3)\n",
      "memory usage: 11.2+ MB\n",
      "\n",
      "Número de usuários únicos no dataset: 290585\n"
     ]
    }
   ],
   "source": [
    "# Verificando informações básicas do DataFrame\n",
    "df.info()\n",
    "\n",
    "# Verificando o número de usuários únicos\n",
    "print(f\"\\nNúmero de usuários únicos no dataset: {df.user_id.nunique()}\")"
   ]
  },
  {
   "cell_type": "code",
   "execution_count": 21,
   "id": "89ed6864",
   "metadata": {},
   "outputs": [
    {
     "name": "stdout",
     "output_type": "stream",
     "text": [
      "Número de linhas com inconsistências: 3893\n"
     ]
    }
   ],
   "source": [
    "# Checando se usuários do grupo 'treatment' realmente viram a 'new_page'\n",
    "# E se usuários do 'control' realmente viram a 'old_page'\n",
    "\n",
    "# Contagem de inconsistências\n",
    "inconsistencias = df.query(\"(group == 'treatment' and landing_page != 'new_page') or (group == 'control' and landing_page != 'old_page')\")\n",
    "\n",
    "print(f\"Número de linhas com inconsistências: {len(inconsistencias)}\")"
   ]
  },
  {
   "cell_type": "code",
   "execution_count": 22,
   "id": "4818a2ff",
   "metadata": {},
   "outputs": [
    {
     "name": "stdout",
     "output_type": "stream",
     "text": [
      "Inconsistências e duplicatas removidas.\n",
      "Novo tamanho do dataset: 290585 linhas.\n"
     ]
    }
   ],
   "source": [
    "# O índice das linhas inconsistentes\n",
    "indices_inconsistentes = inconsistencias.index\n",
    "\n",
    "# Removemos as linhas inconsistentes\n",
    "df_limpo = df.drop(indices_inconsistentes)\n",
    "\n",
    "# Verificamos e removemos qualquer usuário duplicado, mantendo apenas a primeira ocorrência\n",
    "df_limpo = df_limpo.drop_duplicates(subset='user_id', keep='first')\n",
    "\n",
    "print(\"Inconsistências e duplicatas removidas.\")\n",
    "print(f\"Novo tamanho do dataset: {df_limpo.shape[0]} linhas.\")"
   ]
  },
  {
   "cell_type": "markdown",
   "id": "a7781121",
   "metadata": {},
   "source": [
    "## 2. Formulação da Hipótese Estatística\n",
    "\n",
    "Para tomar uma decisão baseada em dados, precisamos formular duas hipóteses opostas.\n",
    "\n",
    "*   **Hipótese Nula (H₀):** A nova página **não tem efeito ou tem um efeito negativo** na taxa de conversão. Matematicamente, a taxa de conversão da nova página (p_nova) é menor ou igual à da página antiga (p_antiga).\n",
    "    \n",
    "    `H₀: p_nova ≤ p_antiga`\n",
    "\n",
    "*   **Hipótese Alternativa (H₁):** A nova página **tem um efeito positivo**, ou seja, aumenta a taxa de conversão.\n",
    "    \n",
    "    `H₁: p_nova > p_antiga`\n",
    "\n",
    "Nosso objetivo é encontrar evidências estatísticas para **rejeitar a hipótese nula** em favor da hipótese alternativa.\n",
    "\n",
    "*   **Nível de Significância (α):** Adotaremos um nível de significância de **5% (α = 0.05)**. Isso significa que estamos dispostos a aceitar uma probabilidade de 5% de rejeitar a hipótese nula quando ela é, na verdade, verdadeira (erro do Tipo I)."
   ]
  },
  {
   "cell_type": "code",
   "execution_count": 23,
   "id": "d9089c99",
   "metadata": {},
   "outputs": [
    {
     "name": "stdout",
     "output_type": "stream",
     "text": [
      "Taxa de conversão geral (dataset limpo): 0.1196\n",
      "Taxa de Conversão do Grupo de Controle: 0.1204\n",
      "Taxa de Conversão do Grupo de Tratamento: 0.1188\n"
     ]
    }
   ],
   "source": [
    "# Calculando a taxa de conversão geral\n",
    "print(f\"Taxa de conversão geral (dataset limpo): {df_limpo.converted.mean():.4f}\")\n",
    "\n",
    "# Separando os dados por grupo (controle e tratamento)\n",
    "grupo_controle = df_limpo.query(\"group == 'control'\")\n",
    "grupo_tratamento = df_limpo.query(\"group == 'treatment'\")\n",
    "\n",
    "# Calculando a taxa de conversão para cada grupo\n",
    "taxa_controle = grupo_controle.converted.mean()\n",
    "taxa_tratamento = grupo_tratamento.converted.mean()\n",
    "\n",
    "print(f\"Taxa de Conversão do Grupo de Controle: {taxa_controle:.4f}\")\n",
    "print(f\"Taxa de Conversão do Grupo de Tratamento: {taxa_tratamento:.4f}\")\n",
    "\n",
    "# Calculando o número de conversões e usuários em cada grupo (necessário para o teste)\n",
    "conversoes_controle = grupo_controle.converted.sum()\n",
    "usuarios_controle = len(grupo_controle)\n",
    "\n",
    "conversoes_tratamento = grupo_tratamento.converted.sum()\n",
    "usuarios_tratamento = len(grupo_tratamento)"
   ]
  },
  {
   "cell_type": "code",
   "execution_count": 24,
   "id": "185d11e3",
   "metadata": {},
   "outputs": [
    {
     "name": "stdout",
     "output_type": "stream",
     "text": [
      "Estatística Z: -1.3116\n",
      "P-valor: 0.9052\n"
     ]
    }
   ],
   "source": [
    "# Preparando os dados para o teste Z\n",
    "# Contagem de conversões [tratamento, controle]\n",
    "count = np.array([conversoes_tratamento, conversoes_controle])\n",
    "\n",
    "# Número total de observações [tratamento, controle]\n",
    "nobs = np.array([usuarios_tratamento, usuarios_controle])\n",
    "\n",
    "# Executando o teste Z\n",
    "# O argumento 'alternative='larger'' testa se a proporção do primeiro grupo (tratamento)\n",
    "# é maior que a do segundo (controle), o que corresponde exatamente à nossa hipótese H₁.\n",
    "z_stat, p_valor = proportions_ztest(count, nobs, alternative='larger')\n",
    "\n",
    "print(f\"Estatística Z: {z_stat:.4f}\")\n",
    "print(f\"P-valor: {p_valor:.4f}\")"
   ]
  },
  {
   "cell_type": "markdown",
   "id": "053f9b5f",
   "metadata": {},
   "source": [
    "## 3. Análise dos Resultados e Conclusão\n",
    "\n",
    "Após a realização do teste Z para duas proporções, obtivemos os seguintes resultados:\n",
    "\n",
    "*   **Estatística Z:** [-1.3116]\n",
    "*   **P-valor:** [0.9052]\n",
    "\n",
    "### Interpretação Estatística\n",
    "\n",
    "O nível de significância (α) que definimos para este teste foi de 0.05. Comparamos o p-valor obtido com este limiar:\n",
    "\n",
    "**`P-valor ([0.9052])` vs `α (0.05)`**\n",
    "\n",
    "*   **(Cenário 1: Se o seu p-valor for > 0.05)**\n",
    "    Como o p-valor é **maior** que o nosso nível de significância (p > 0.05), **falhamos em rejeitar a Hipótese Nula (H₀)**. Isso significa que não encontramos evidências estatísticas suficientes para afirmar que a nova página tem uma taxa de conversão superior à da página antiga. A pequena diferença que observamos nas taxas de conversão pode ser meramente fruto do acaso.\n",
    "\n",
    "\n",
    "\n",
    "### Recomendação de Negócio\n",
    "\n",
    "**Baseado nos resultados do teste A/B, não há evidências estatísticas para justificar a implementação da nova página para todos os usuários.** Embora a taxa de conversão do grupo de tratamento tenha sido ligeiramente diferente da do grupo de controle, essa diferença não foi estatisticamente significante.\n",
    "\n",
    "**Recomenda-se manter a página antiga (versão de controle) como padrão.** Investir recursos para lançar a nova página em larga escala não traria um retorno positivo garantido e poderia ser um desperdício de tempo e dinheiro. Sugere-se que o time de produto investigue novas hipóteses para melhorar a experiência do usuário."
   ]
  }
 ],
 "metadata": {
  "kernelspec": {
   "display_name": "venv",
   "language": "python",
   "name": "python3"
  },
  "language_info": {
   "codemirror_mode": {
    "name": "ipython",
    "version": 3
   },
   "file_extension": ".py",
   "mimetype": "text/x-python",
   "name": "python",
   "nbconvert_exporter": "python",
   "pygments_lexer": "ipython3",
   "version": "3.13.7"
  }
 },
 "nbformat": 4,
 "nbformat_minor": 5
}
